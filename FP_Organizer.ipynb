{
 "cells": [
  {
   "cell_type": "code",
   "execution_count": 33,
   "metadata": {},
   "outputs": [],
   "source": [
    "import csv \n",
    "import numpy as np\n",
    "import cv2\n",
    "import os\n",
    "\n",
    "Img_Path = \"D:/Tese/Projeto BALCAT/Scripts/Firing_pin\"\n",
    "labels_file = \"Dataset_splits.csv\"\n",
    "lines=[]\n",
    "with open(labels_file) as csv_file:\n",
    "    #skips the first line\n",
    "    csv_reader = csv.reader(csv_file, delimiter=',')\n",
    "    next(csv_reader)\n",
    "    for row in csv_reader:\n",
    "        write_path = ''\n",
    "        model = row[8]\n",
    "        img_id = row[0]\n",
    "\n",
    "        train = row[10]\n",
    "        val = row[11]\n",
    "        test = row[12]\n",
    "        img_list = os.listdir(Img_Path)\n",
    "        img_name = \"Firing_pin_\" + img_id + \".png\"\n",
    "        if(img_name in img_list):\n",
    "            img = cv2.imread(Img_Path + \"/Firing_pin_\" + img_id + \".png\", 0)\n",
    "            if train:\n",
    "                write_path = \"Train/\" + model + \"/Firing_pin\" + img_id + \".png\"\n",
    "                cv2.imwrite(write_path, img)\n",
    "            if val:\n",
    "                write_path = \"Validation/\" + model + \"/Firing_pin\" + img_id + \".png\"\n",
    "                cv2.imwrite(write_path, img)\n",
    "            if test:\n",
    "                write_path = \"Test/\" + model + \"/Firing_pin\" + img_id + \".png\"\n",
    "                cv2.imwrite(write_path, img)\n"
   ]
  }
 ],
 "metadata": {
  "language_info": {
   "name": "python"
  },
  "orig_nbformat": 4
 },
 "nbformat": 4,
 "nbformat_minor": 2
}
