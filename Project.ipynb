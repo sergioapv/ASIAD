{
 "cells": [
  {
   "cell_type": "code",
   "execution_count": 1,
   "metadata": {},
   "outputs": [],
   "source": [
    "import tensorflow as tf\n",
    "from tensorflow.keras import layers\n",
    "\n",
    "import numpy as np\n",
    "import matplotlib.pyplot as plt\n",
    "\n",
    "from sklearn.metrics import ConfusionMatrixDisplay\n",
    "from sklearn.metrics import confusion_matrix\n",
    "\n",
    "import tensorflow as tf\n",
    "import csv\n",
    "from tensorflow.keras import layers\n",
    "from tensorflow.keras.models import Sequential, Model\n",
    "from tensorflow.keras.layers import Dense, Dropout, Activation, Conv2D, MaxPool2D, Flatten, Input, Concatenate, Lambda, experimental\n",
    "from tensorflow.keras.optimizers import SGD\n",
    "from keras import backend as K\n",
    "from tensorflow import keras\n",
    "from PIL import Image, ImageOps, ImageDraw\n",
    "import os, glob\n",
    "import numpy as np\n",
    "import pandas as pd\n",
    "import sklearn\n",
    "import math\n",
    "import random\n",
    "import matplotlib.pyplot as plt\n",
    "\n"
   ]
  },
  {
   "cell_type": "code",
   "execution_count": 30,
   "metadata": {},
   "outputs": [],
   "source": [
    "train_path = \"D:/Tese/Projeto BALCAT/Imagens/NIST CARTS/NIST Cartridges\"\n",
    "\n",
    "labels = os.listdir(train_path)\n",
    "\n",
    "df = pd.DataFrame([], columns=['path', 'label'])\n",
    "df.head()\n",
    "\n",
    "for i in labels: \n",
    "    class_path = train_path + \"/\" + i\n",
    "    carts = os.listdir(class_path)\n",
    "    for cart in carts:\n",
    "        df_l = pd.DataFrame({\"path\": [class_path + \"/\" + cart], \"label\": [i]})\n",
    "        df = df.append(df_l, ignore_index=True)\n",
    "\n",
    "df = pd.concat([df[:1], df[1:].sample(frac=1)]).reset_index(drop=True)\n",
    "  \n"
   ]
  },
  {
   "cell_type": "code",
   "execution_count": 54,
   "metadata": {},
   "outputs": [],
   "source": [
    "size = (30,30)\n",
    "input = (30,30,1)\n",
    "def create_gen():\n",
    "    # Load the Images with a generator and Data Augmentation\n",
    "    train_generator = tf.keras.preprocessing.image.ImageDataGenerator(\n",
    "        preprocessing_function=tf.keras.applications.mobilenet_v2.preprocess_input,\n",
    "        validation_split=0.2\n",
    "    )\n",
    "\n",
    "\n",
    "\n",
    "    train_images = train_generator.flow_from_dataframe(\n",
    "        dataframe=df,\n",
    "        x_col='path',\n",
    "        y_col='label',\n",
    "        target_size=size,\n",
    "        color_mode='grayscale',\n",
    "        class_mode='categorical',\n",
    "        batch_size=32,\n",
    "        shuffle=True,\n",
    "        seed=0,\n",
    "        subset='training',\n",
    "        # rotation_range=30, # Uncomment to use data augmentation\n",
    "        # zoom_range=0.15,\n",
    "        # width_shift_range=0.2,\n",
    "        # height_shift_range=0.2,\n",
    "        # shear_range=0.15,\n",
    "        # horizontal_flip=True,\n",
    "        # fill_mode=\"nearest\"\n",
    "    )\n",
    "\n",
    "    val_images = train_generator.flow_from_dataframe(\n",
    "        dataframe=df,\n",
    "        x_col='path',\n",
    "        y_col='label',\n",
    "        target_size=size,\n",
    "        color_mode='grayscale',\n",
    "        class_mode='categorical',\n",
    "        batch_size=32,\n",
    "        shuffle=True,\n",
    "        seed=0,\n",
    "        subset='validation'\n",
    "        # rotation_range=30, # Uncomment to use data augmentation\n",
    "        # zoom_range=0.15,\n",
    "        # width_shift_range=0.2,\n",
    "        # height_shift_range=0.2,\n",
    "        # shear_range=0.15,\n",
    "        # horizontal_flip=True,\n",
    "        # fill_mode=\"nearest\"\n",
    "    )\n",
    "\n",
    "    # test_images = test_generator.flow_from_dataframe(\n",
    "    #     dataframe=test_df,\n",
    "    #     x_col='Filepath',\n",
    "    #     y_col='Label',\n",
    "    #     target_size=(224, 224),\n",
    "    #     color_mode='rgb',\n",
    "    #     class_mode='categorical',\n",
    "    #     batch_size=32,\n",
    "    #     shuffle=False\n",
    "    # )\n",
    "    \n",
    "    return train_generator,train_images,val_images"
   ]
  },
  {
   "cell_type": "code",
   "execution_count": 55,
   "metadata": {},
   "outputs": [
    {
     "name": "stdout",
     "output_type": "stream",
     "text": [
      "Found 1276 validated image filenames belonging to 5 classes.\n",
      "Found 319 validated image filenames belonging to 5 classes.\n"
     ]
    }
   ],
   "source": [
    "train_generator,train_images,val_image = create_gen()"
   ]
  },
  {
   "cell_type": "code",
   "execution_count": 56,
   "metadata": {},
   "outputs": [
    {
     "data": {
      "text/plain": [
       "<matplotlib.image.AxesImage at 0x1c2582a3100>"
      ]
     },
     "execution_count": 56,
     "metadata": {},
     "output_type": "execute_result"
    },
    {
     "data": {
      "image/png": "[encoded data removed]",
      "text/plain": [
       "<Figure size 432x288 with 1 Axes>"
      ]
     },
     "metadata": {
      "needs_background": "light"
     },
     "output_type": "display_data"
    }
   ],
   "source": [
    "plt.imshow(np.array(val_image[0][0][0]))"
   ]
  },
  {
   "cell_type": "code",
   "execution_count": 57,
   "metadata": {},
   "outputs": [],
   "source": [
    "def create_model():\n",
    "    model = Sequential()\n",
    "    \n",
    "    model.add(Conv2D(36, (3, 3), activation='relu', input_shape=input))\n",
    "    model.add(MaxPool2D(3, 3))\n",
    "    model.add(Conv2D(36, (3, 3), activation='relu'))\n",
    "    model.add(MaxPool2D(3, 3))\n",
    "    model.add(Flatten())\n",
    "    model.add(tf.keras.layers.Dense(128, activation=\"relu\"))\n",
    "    model.add(tf.keras.layers.Dense(5, activation=\"softmax\"))\n",
    "    model.compile(loss = \"categorical_crossentropy\", optimizer= \"Adam\", metrics=[\"accuracy\"])\n",
    "\n",
    "    return model\n"
   ]
  },
  {
   "cell_type": "code",
   "execution_count": 58,
   "metadata": {},
   "outputs": [
    {
     "name": "stdout",
     "output_type": "stream",
     "text": [
      "Epoch 1/10\n",
      "40/40 [==============================] - 74s 2s/step - loss: 1.5918 - accuracy: 0.2586 - val_loss: 1.5726 - val_accuracy: 0.2759\n",
      "Epoch 2/10\n",
      "40/40 [==============================] - 73s 2s/step - loss: 1.5553 - accuracy: 0.2923 - val_loss: 1.5278 - val_accuracy: 0.3166\n",
      "Epoch 3/10\n",
      "40/40 [==============================] - 74s 2s/step - loss: 1.4930 - accuracy: 0.3425 - val_loss: 1.4600 - val_accuracy: 0.3824\n",
      "Epoch 4/10\n",
      "40/40 [==============================] - 70s 2s/step - loss: 1.3910 - accuracy: 0.4020 - val_loss: 1.3911 - val_accuracy: 0.4075\n",
      "Epoch 5/10\n",
      "40/40 [==============================] - 74s 2s/step - loss: 1.3014 - accuracy: 0.4553 - val_loss: 1.3048 - val_accuracy: 0.4545\n",
      "Epoch 6/10\n",
      "40/40 [==============================] - 72s 2s/step - loss: 1.1921 - accuracy: 0.5071 - val_loss: 1.2218 - val_accuracy: 0.5204\n",
      "Epoch 7/10\n",
      "40/40 [==============================] - 75s 2s/step - loss: 1.0859 - accuracy: 0.5697 - val_loss: 1.1246 - val_accuracy: 0.5423\n",
      "Epoch 8/10\n",
      "40/40 [==============================] - 72s 2s/step - loss: 0.9803 - accuracy: 0.6191 - val_loss: 1.0851 - val_accuracy: 0.5392\n",
      "Epoch 9/10\n",
      "40/40 [==============================] - 73s 2s/step - loss: 0.9282 - accuracy: 0.6285 - val_loss: 1.0007 - val_accuracy: 0.5705\n",
      "Epoch 10/10\n",
      "40/40 [==============================] - 74s 2s/step - loss: 0.8249 - accuracy: 0.6889 - val_loss: 0.9441 - val_accuracy: 0.6144\n"
     ]
    },
    {
     "data": {
      "text/plain": [
       "<tensorflow.python.keras.callbacks.History at 0x1c2582e9f40>"
      ]
     },
     "execution_count": 58,
     "metadata": {},
     "output_type": "execute_result"
    }
   ],
   "source": [
    "cnn = create_model()\n",
    "cnn.fit(train_images, validation_data=val_image, epochs = 10, verbose = 1)"
   ]
  },
  {
   "cell_type": "code",
   "execution_count": 3,
   "metadata": {},
   "outputs": [
    {
     "name": "stdout",
     "output_type": "stream",
     "text": [
      "[]\n"
     ]
    }
   ],
   "source": [
    "import tensorflow as tf\n",
    "print(tf.config.list_physical_devices('GPU'))"
   ]
  }
 ],
 "metadata": {
  "interpreter": {
   "hash": "15af266f599dc5d3438e2abbe598328185b58d1b0436069976965acefbda6c99"
  },
  "kernelspec": {
   "display_name": "Python 3.8.11 64-bit ('TBDB': conda)",
   "language": "python",
   "name": "python3"
  },
  "language_info": {
   "codemirror_mode": {
    "name": "ipython",
    "version": 3
   },
   "file_extension": ".py",
   "mimetype": "text/x-python",
   "name": "python",
   "nbconvert_exporter": "python",
   "pygments_lexer": "ipython3",
   "version": "3.8.11"
  },
  "orig_nbformat": 4
 },
 "nbformat": 4,
 "nbformat_minor": 2
}
